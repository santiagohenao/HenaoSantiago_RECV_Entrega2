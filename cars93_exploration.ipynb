{
 "cells": [
  {
   "cell_type": "code",
   "execution_count": 100,
   "id": "cbe9862d-3c02-4043-88a8-b863299f5c33",
   "metadata": {},
   "outputs": [],
   "source": [
    "import numpy as np\n",
    "import matplotlib.pyplot as plt\n",
    "import pandas as pd\n",
    "\n",
    "from sklearn.ensemble import RandomForestRegressor\n",
    "from sklearn.model_selection import train_test_split\n",
    "\n",
    "from IPython.display import HTML\n",
    "\n",
    "plt.rcParams[\"figure.dpi\"] = 100"
   ]
  },
  {
   "cell_type": "code",
   "execution_count": 2,
   "id": "17ecf9c1-e27d-4ab0-b30f-82f09abc8bea",
   "metadata": {},
   "outputs": [],
   "source": [
    "df = pd.read_csv(\"Cars93.csv\")\n",
    "# la primera columna es literalmente el index. Se remueve.\n",
    "df = df.drop(df.columns[0], axis=1)"
   ]
  },
  {
   "cell_type": "markdown",
   "id": "8d63c2dc-3133-4e52-8bf0-e8e70f537f6c",
   "metadata": {},
   "source": [
    "# Exploración de variables"
   ]
  },
  {
   "cell_type": "markdown",
   "id": "d4c4e3a5-4677-416e-876d-cbf1c613e764",
   "metadata": {},
   "source": [
    "Hay tres columnas de \"precio\". Según [este](https://stat.ethz.ch/R-manual/R-devel/library/MASS/html/Cars93.html) artículo (ya que el link de brightspace no funcionaba), no creo que nos interesen las siguientes columnas:\n",
    "\n",
    "* `Model` y `Make`: todos son distintos, nada que concluír\n",
    "* `Min.Price` y `Max.Price`: se usará Price (el promedio de éstos dos)"
   ]
  },
  {
   "cell_type": "code",
   "execution_count": 3,
   "id": "390670a9-3b04-4707-85d0-d2506a619e68",
   "metadata": {},
   "outputs": [],
   "source": [
    "df = df.drop([\"Model\",\"Make\",\"Min.Price\",\"Max.Price\"],axis=1)"
   ]
  },
  {
   "cell_type": "code",
   "execution_count": 4,
   "id": "1577544b-03b6-4855-8d6e-560d5d602521",
   "metadata": {},
   "outputs": [
    {
     "data": {
      "text/html": [
       "<div>\n",
       "<style scoped>\n",
       "    .dataframe tbody tr th:only-of-type {\n",
       "        vertical-align: middle;\n",
       "    }\n",
       "\n",
       "    .dataframe tbody tr th {\n",
       "        vertical-align: top;\n",
       "    }\n",
       "\n",
       "    .dataframe thead th {\n",
       "        text-align: right;\n",
       "    }\n",
       "</style>\n",
       "<table border=\"1\" class=\"dataframe\">\n",
       "  <thead>\n",
       "    <tr style=\"text-align: right;\">\n",
       "      <th></th>\n",
       "      <th>Manufacturer</th>\n",
       "      <th>Type</th>\n",
       "      <th>Price</th>\n",
       "      <th>MPG.city</th>\n",
       "      <th>MPG.highway</th>\n",
       "      <th>AirBags</th>\n",
       "      <th>DriveTrain</th>\n",
       "      <th>Cylinders</th>\n",
       "      <th>EngineSize</th>\n",
       "      <th>Horsepower</th>\n",
       "      <th>...</th>\n",
       "      <th>Fuel.tank.capacity</th>\n",
       "      <th>Passengers</th>\n",
       "      <th>Length</th>\n",
       "      <th>Wheelbase</th>\n",
       "      <th>Width</th>\n",
       "      <th>Turn.circle</th>\n",
       "      <th>Rear.seat.room</th>\n",
       "      <th>Luggage.room</th>\n",
       "      <th>Weight</th>\n",
       "      <th>Origin</th>\n",
       "    </tr>\n",
       "  </thead>\n",
       "  <tbody>\n",
       "    <tr>\n",
       "      <th>58</th>\n",
       "      <td>Mercedes-Benz</td>\n",
       "      <td>Midsize</td>\n",
       "      <td>61.9</td>\n",
       "      <td>19</td>\n",
       "      <td>25</td>\n",
       "      <td>Driver &amp; Passenger</td>\n",
       "      <td>Rear</td>\n",
       "      <td>6</td>\n",
       "      <td>3.2</td>\n",
       "      <td>217</td>\n",
       "      <td>...</td>\n",
       "      <td>18.5</td>\n",
       "      <td>5</td>\n",
       "      <td>187</td>\n",
       "      <td>110</td>\n",
       "      <td>69</td>\n",
       "      <td>37</td>\n",
       "      <td>27.0</td>\n",
       "      <td>15.0</td>\n",
       "      <td>3525</td>\n",
       "      <td>non-USA</td>\n",
       "    </tr>\n",
       "    <tr>\n",
       "      <th>47</th>\n",
       "      <td>Infiniti</td>\n",
       "      <td>Midsize</td>\n",
       "      <td>47.9</td>\n",
       "      <td>17</td>\n",
       "      <td>22</td>\n",
       "      <td>Driver only</td>\n",
       "      <td>Rear</td>\n",
       "      <td>8</td>\n",
       "      <td>4.5</td>\n",
       "      <td>278</td>\n",
       "      <td>...</td>\n",
       "      <td>22.5</td>\n",
       "      <td>5</td>\n",
       "      <td>200</td>\n",
       "      <td>113</td>\n",
       "      <td>72</td>\n",
       "      <td>42</td>\n",
       "      <td>29.0</td>\n",
       "      <td>15.0</td>\n",
       "      <td>4000</td>\n",
       "      <td>non-USA</td>\n",
       "    </tr>\n",
       "    <tr>\n",
       "      <th>10</th>\n",
       "      <td>Cadillac</td>\n",
       "      <td>Midsize</td>\n",
       "      <td>40.1</td>\n",
       "      <td>16</td>\n",
       "      <td>25</td>\n",
       "      <td>Driver &amp; Passenger</td>\n",
       "      <td>Front</td>\n",
       "      <td>8</td>\n",
       "      <td>4.6</td>\n",
       "      <td>295</td>\n",
       "      <td>...</td>\n",
       "      <td>20.0</td>\n",
       "      <td>5</td>\n",
       "      <td>204</td>\n",
       "      <td>111</td>\n",
       "      <td>74</td>\n",
       "      <td>44</td>\n",
       "      <td>31.0</td>\n",
       "      <td>14.0</td>\n",
       "      <td>3935</td>\n",
       "      <td>USA</td>\n",
       "    </tr>\n",
       "    <tr>\n",
       "      <th>18</th>\n",
       "      <td>Chevrolet</td>\n",
       "      <td>Sporty</td>\n",
       "      <td>38.0</td>\n",
       "      <td>17</td>\n",
       "      <td>25</td>\n",
       "      <td>Driver only</td>\n",
       "      <td>Rear</td>\n",
       "      <td>8</td>\n",
       "      <td>5.7</td>\n",
       "      <td>300</td>\n",
       "      <td>...</td>\n",
       "      <td>20.0</td>\n",
       "      <td>2</td>\n",
       "      <td>179</td>\n",
       "      <td>96</td>\n",
       "      <td>74</td>\n",
       "      <td>43</td>\n",
       "      <td>NaN</td>\n",
       "      <td>NaN</td>\n",
       "      <td>3380</td>\n",
       "      <td>USA</td>\n",
       "    </tr>\n",
       "    <tr>\n",
       "      <th>3</th>\n",
       "      <td>Audi</td>\n",
       "      <td>Midsize</td>\n",
       "      <td>37.7</td>\n",
       "      <td>19</td>\n",
       "      <td>26</td>\n",
       "      <td>Driver &amp; Passenger</td>\n",
       "      <td>Front</td>\n",
       "      <td>6</td>\n",
       "      <td>2.8</td>\n",
       "      <td>172</td>\n",
       "      <td>...</td>\n",
       "      <td>21.1</td>\n",
       "      <td>6</td>\n",
       "      <td>193</td>\n",
       "      <td>106</td>\n",
       "      <td>70</td>\n",
       "      <td>37</td>\n",
       "      <td>31.0</td>\n",
       "      <td>17.0</td>\n",
       "      <td>3405</td>\n",
       "      <td>non-USA</td>\n",
       "    </tr>\n",
       "  </tbody>\n",
       "</table>\n",
       "<p>5 rows × 23 columns</p>\n",
       "</div>"
      ],
      "text/plain": [
       "     Manufacturer     Type  Price  MPG.city  MPG.highway             AirBags  \\\n",
       "58  Mercedes-Benz  Midsize   61.9        19           25  Driver & Passenger   \n",
       "47       Infiniti  Midsize   47.9        17           22         Driver only   \n",
       "10       Cadillac  Midsize   40.1        16           25  Driver & Passenger   \n",
       "18      Chevrolet   Sporty   38.0        17           25         Driver only   \n",
       "3            Audi  Midsize   37.7        19           26  Driver & Passenger   \n",
       "\n",
       "   DriveTrain Cylinders  EngineSize  Horsepower  ...  Fuel.tank.capacity  \\\n",
       "58       Rear         6         3.2         217  ...                18.5   \n",
       "47       Rear         8         4.5         278  ...                22.5   \n",
       "10      Front         8         4.6         295  ...                20.0   \n",
       "18       Rear         8         5.7         300  ...                20.0   \n",
       "3       Front         6         2.8         172  ...                21.1   \n",
       "\n",
       "    Passengers Length  Wheelbase  Width  Turn.circle  Rear.seat.room  \\\n",
       "58           5    187        110     69           37            27.0   \n",
       "47           5    200        113     72           42            29.0   \n",
       "10           5    204        111     74           44            31.0   \n",
       "18           2    179         96     74           43             NaN   \n",
       "3            6    193        106     70           37            31.0   \n",
       "\n",
       "    Luggage.room  Weight   Origin  \n",
       "58          15.0    3525  non-USA  \n",
       "47          15.0    4000  non-USA  \n",
       "10          14.0    3935      USA  \n",
       "18           NaN    3380      USA  \n",
       "3           17.0    3405  non-USA  \n",
       "\n",
       "[5 rows x 23 columns]"
      ]
     },
     "execution_count": 4,
     "metadata": {},
     "output_type": "execute_result"
    }
   ],
   "source": [
    "df.sort_values(\"Price\",ascending=False).head()"
   ]
  },
  {
   "cell_type": "markdown",
   "id": "a3dfef75-bcf5-41e8-b2af-63f2e3442253",
   "metadata": {},
   "source": [
    "Campos con datos faltantes"
   ]
  },
  {
   "cell_type": "code",
   "execution_count": 5,
   "id": "c95c65ed-c734-480f-8c63-25d1b4fe330b",
   "metadata": {},
   "outputs": [
    {
     "data": {
      "text/plain": [
       "Rear.seat.room     2\n",
       "Luggage.room      11\n",
       "dtype: int64"
      ]
     },
     "execution_count": 5,
     "metadata": {},
     "output_type": "execute_result"
    }
   ],
   "source": [
    "null_fields = df.isnull().sum()\n",
    "null_fields[null_fields != 0]"
   ]
  },
  {
   "cell_type": "markdown",
   "id": "fa850d80-9810-40d7-95a3-734616c1f744",
   "metadata": {},
   "source": [
    "## tipos de dato de cada variable"
   ]
  },
  {
   "cell_type": "markdown",
   "id": "d4fbc8b5-70ae-446d-8b00-b3d94b3aead6",
   "metadata": {},
   "source": [
    "De la documentación sabemos que `Cylinders` es realmente numérica (con un dato especial que es `'rotary'`), y `Man.trans.avail` es booleana."
   ]
  },
  {
   "cell_type": "code",
   "execution_count": 7,
   "id": "1be70dfe-3a17-4c19-b713-c11d611c4717",
   "metadata": {},
   "outputs": [],
   "source": [
    "df['Cylinders'] = df['Cylinders'].str.replace('rotary',\"nan\").apply(float)"
   ]
  },
  {
   "cell_type": "code",
   "execution_count": 8,
   "id": "ac27b5b8-5674-4a34-a8ea-400e160bacab",
   "metadata": {},
   "outputs": [
    {
     "data": {
      "text/html": [
       "<div style='float:left; margin:10px'><table border=\"1\" class=\"dataframe\">\n",
       "  <thead>\n",
       "    <tr style=\"text-align: right;\">\n",
       "      <th></th>\n",
       "      <th>float64</th>\n",
       "    </tr>\n",
       "  </thead>\n",
       "  <tbody>\n",
       "    <tr>\n",
       "      <th>2</th>\n",
       "      <td>Price</td>\n",
       "    </tr>\n",
       "    <tr>\n",
       "      <th>7</th>\n",
       "      <td>Cylinders</td>\n",
       "    </tr>\n",
       "    <tr>\n",
       "      <th>8</th>\n",
       "      <td>EngineSize</td>\n",
       "    </tr>\n",
       "    <tr>\n",
       "      <th>13</th>\n",
       "      <td>Fuel.tank.capacity</td>\n",
       "    </tr>\n",
       "    <tr>\n",
       "      <th>19</th>\n",
       "      <td>Rear.seat.room</td>\n",
       "    </tr>\n",
       "    <tr>\n",
       "      <th>20</th>\n",
       "      <td>Luggage.room</td>\n",
       "    </tr>\n",
       "  </tbody>\n",
       "</table></div><div style='float:left; margin:10px'><table border=\"1\" class=\"dataframe\">\n",
       "  <thead>\n",
       "    <tr style=\"text-align: right;\">\n",
       "      <th></th>\n",
       "      <th>int64</th>\n",
       "    </tr>\n",
       "  </thead>\n",
       "  <tbody>\n",
       "    <tr>\n",
       "      <th>3</th>\n",
       "      <td>MPG.city</td>\n",
       "    </tr>\n",
       "    <tr>\n",
       "      <th>4</th>\n",
       "      <td>MPG.highway</td>\n",
       "    </tr>\n",
       "    <tr>\n",
       "      <th>9</th>\n",
       "      <td>Horsepower</td>\n",
       "    </tr>\n",
       "    <tr>\n",
       "      <th>10</th>\n",
       "      <td>RPM</td>\n",
       "    </tr>\n",
       "    <tr>\n",
       "      <th>11</th>\n",
       "      <td>Rev.per.mile</td>\n",
       "    </tr>\n",
       "    <tr>\n",
       "      <th>14</th>\n",
       "      <td>Passengers</td>\n",
       "    </tr>\n",
       "    <tr>\n",
       "      <th>15</th>\n",
       "      <td>Length</td>\n",
       "    </tr>\n",
       "    <tr>\n",
       "      <th>16</th>\n",
       "      <td>Wheelbase</td>\n",
       "    </tr>\n",
       "    <tr>\n",
       "      <th>17</th>\n",
       "      <td>Width</td>\n",
       "    </tr>\n",
       "    <tr>\n",
       "      <th>18</th>\n",
       "      <td>Turn.circle</td>\n",
       "    </tr>\n",
       "    <tr>\n",
       "      <th>21</th>\n",
       "      <td>Weight</td>\n",
       "    </tr>\n",
       "  </tbody>\n",
       "</table></div><div style='float:left; margin:10px'><table border=\"1\" class=\"dataframe\">\n",
       "  <thead>\n",
       "    <tr style=\"text-align: right;\">\n",
       "      <th></th>\n",
       "      <th>str</th>\n",
       "    </tr>\n",
       "  </thead>\n",
       "  <tbody>\n",
       "    <tr>\n",
       "      <th>0</th>\n",
       "      <td>Manufacturer</td>\n",
       "    </tr>\n",
       "    <tr>\n",
       "      <th>1</th>\n",
       "      <td>Type</td>\n",
       "    </tr>\n",
       "    <tr>\n",
       "      <th>5</th>\n",
       "      <td>AirBags</td>\n",
       "    </tr>\n",
       "    <tr>\n",
       "      <th>6</th>\n",
       "      <td>DriveTrain</td>\n",
       "    </tr>\n",
       "    <tr>\n",
       "      <th>12</th>\n",
       "      <td>Man.trans.avail</td>\n",
       "    </tr>\n",
       "    <tr>\n",
       "      <th>22</th>\n",
       "      <td>Origin</td>\n",
       "    </tr>\n",
       "  </tbody>\n",
       "</table>"
      ],
      "text/plain": [
       "<IPython.core.display.HTML object>"
      ]
     },
     "execution_count": 8,
     "metadata": {},
     "output_type": "execute_result"
    }
   ],
   "source": [
    "columns = df.keys()\n",
    "types = [type(df[key].iloc[0]).__name__ for key in columns]\n",
    "column_types_df = pd.DataFrame(zip(columns,types),columns=[\"field\",\"type\"])\n",
    "ini = \"<div style='float:left; margin:10px'>\"\n",
    "HTML(ini + f\"</div>{ini}\".join([pd.DataFrame({key:val[\"field\"]}).to_html() for key,val in column_types_df.groupby(\"type\")]))"
   ]
  },
  {
   "cell_type": "markdown",
   "id": "014234c2-5d75-4d29-b2f8-51d34a775273",
   "metadata": {},
   "source": [
    "Son 16 varaibles numéricas, excluyendo `Price`"
   ]
  },
  {
   "cell_type": "code",
   "execution_count": 32,
   "id": "e2cc7137-2c3f-459f-abee-063d8172af08",
   "metadata": {},
   "outputs": [
    {
     "data": {
      "text/plain": [
       "16"
      ]
     },
     "execution_count": 32,
     "metadata": {},
     "output_type": "execute_result"
    }
   ],
   "source": [
    "numeric_columns = column_types_df[column_types_df[\"type\"] != \"str\"][\"field\"]\n",
    "numeric_columns = numeric_columns[numeric_columns != \"Price\"].values\n",
    "len(numeric_columns)"
   ]
  },
  {
   "cell_type": "code",
   "execution_count": 33,
   "id": "e719ecb3-2783-419d-b98f-2d0edb783f28",
   "metadata": {},
   "outputs": [],
   "source": [
    "field_mat = np.reshape(numeric_columns,(4,4))"
   ]
  },
  {
   "cell_type": "code",
   "execution_count": 34,
   "id": "9cd1f8b2-1d57-43e4-a082-5db8f204b4ae",
   "metadata": {},
   "outputs": [
    {
     "data": {
      "image/png": "[encoded data removed]",
      "text/plain": [
       "<Figure size 1000x700 with 16 Axes>"
      ]
     },
     "metadata": {
      "needs_background": "light"
     },
     "output_type": "display_data"
    }
   ],
   "source": [
    "fig, ax = plt.subplots(4,4,sharex=True,figsize=(10,7))\n",
    "\n",
    "for ij in np.ndindex(4,4):\n",
    "    plt.sca(ax[ij])\n",
    "    plt.scatter(df.Price,df[field_mat[ij]],s=2)\n",
    "    plt.ylabel(field_mat[ij])\n",
    "    \n",
    "fig.supxlabel('Price')\n",
    "plt.tight_layout()"
   ]
  },
  {
   "cell_type": "markdown",
   "id": "533c496c-2a8c-4741-8f84-f2221e4ac285",
   "metadata": {},
   "source": [
    "Y 6 varaibles textuales"
   ]
  },
  {
   "cell_type": "code",
   "execution_count": 37,
   "id": "416dddfd-4dbe-47cf-af6f-b9cbc7444cb5",
   "metadata": {},
   "outputs": [
    {
     "data": {
      "text/plain": [
       "6"
      ]
     },
     "execution_count": 37,
     "metadata": {},
     "output_type": "execute_result"
    }
   ],
   "source": [
    "string_columns = column_types_df[column_types_df[\"type\"] == \"str\"][\"field\"].values\n",
    "len(string_colums)"
   ]
  },
  {
   "cell_type": "code",
   "execution_count": 38,
   "id": "12cf96ab-5d95-473d-bc9f-cee74e2cd9ca",
   "metadata": {},
   "outputs": [],
   "source": [
    "field_mat = np.reshape(string_columns,(2,3))"
   ]
  },
  {
   "cell_type": "code",
   "execution_count": 44,
   "id": "12f0f06f-48ad-4614-9983-703f7d2b7e67",
   "metadata": {},
   "outputs": [
    {
     "data": {
      "image/png": "[encoded data removed]",
      "text/plain": [
       "<Figure size 1500x700 with 6 Axes>"
      ]
     },
     "metadata": {
      "needs_background": "light"
     },
     "output_type": "display_data"
    }
   ],
   "source": [
    "fig,ax = plt.subplots(2,3,sharex=True,figsize=(15,7))\n",
    "\n",
    "for ij in np.ndindex(2,3):\n",
    "    \n",
    "    col = field_mat[ij]\n",
    "    \n",
    "    pd.DataFrame(\n",
    "        {key:np.pad(val.Price.values,(0,93-len(val.Price.values)),'constant',constant_values=np.nan) for key,val in df.groupby(col)}\n",
    "    ).plot.hist(stacked=True,ax=ax[ij],legend=(col != \"Manufacturer\"))\n",
    "    ax[ij].set_title(col)\n",
    "    ax[ij].set_ylabel(\"\")\n",
    "    \n",
    "fig.supxlabel(\"Price\",fontsize=20)\n",
    "fig.supylabel(\"Frecuency\",fontsize=20)\n",
    "plt.tight_layout()"
   ]
  },
  {
   "cell_type": "markdown",
   "id": "2140aa22-83a0-4e85-bf00-a772f67464ab",
   "metadata": {},
   "source": [
    "ciertamente hay una relación entre estas variables textuales y el precio (excepto en el caso de `Manufacturer`). Las variables booleanas (`Origin` y `Man.trans.avail`) se pondrán como 0 y 1, y los Airbags se pondrán como 0 (None), 1 (driver only) y 2 (driver & passenger). Mirando el historgama de precios, se decidirá que en `DriveTrain` se reemplazará 4WD con 0, Front con 1 y Rear con 2."
   ]
  },
  {
   "cell_type": "code",
   "execution_count": 70,
   "id": "c604f610-7193-473d-9baf-318269afc4e1",
   "metadata": {},
   "outputs": [],
   "source": [
    "df[\"DriveTrain\"] = df[\"DriveTrain\"].str.replace(\"4WD\",\"0\").str.replace(\"Front\",\"1\").str.replace(\"Rear\",\"2\").apply(int)"
   ]
  },
  {
   "cell_type": "code",
   "execution_count": 52,
   "id": "1d712ff7-2102-4257-8129-8e7a23161bac",
   "metadata": {},
   "outputs": [],
   "source": [
    "df[\"AirBags\"] = df[\"AirBags\"].str.replace(\"None\",\"0\").str.replace(\"Driver only\",\"1\").str.replace(\"Driver & Passenger\",\"2\").apply(int)"
   ]
  },
  {
   "cell_type": "code",
   "execution_count": 63,
   "id": "bd5fc8aa-8468-4e00-ae49-e9437946341b",
   "metadata": {},
   "outputs": [],
   "source": [
    "df[\"Man.trans.avail\"] = (df[\"Man.trans.avail\"] == \"Yes\")*1"
   ]
  },
  {
   "cell_type": "code",
   "execution_count": 68,
   "id": "d8fb31b0-2586-40fc-862c-d4ec42ff94a5",
   "metadata": {},
   "outputs": [],
   "source": [
    "df[\"Origin\"] = (df[\"Origin\"] == \"USA\")*1"
   ]
  },
  {
   "cell_type": "markdown",
   "id": "9df06f14-5e8c-4f81-8bfb-2452a6b075a3",
   "metadata": {},
   "source": [
    "Ahora los tipos son"
   ]
  },
  {
   "cell_type": "code",
   "execution_count": 71,
   "id": "985152c8-66a0-4a46-ad77-47582c15ddb2",
   "metadata": {},
   "outputs": [
    {
     "data": {
      "text/html": [
       "<div style='float:left; margin:10px'><table border=\"1\" class=\"dataframe\">\n",
       "  <thead>\n",
       "    <tr style=\"text-align: right;\">\n",
       "      <th></th>\n",
       "      <th>float64</th>\n",
       "    </tr>\n",
       "  </thead>\n",
       "  <tbody>\n",
       "    <tr>\n",
       "      <th>2</th>\n",
       "      <td>Price</td>\n",
       "    </tr>\n",
       "    <tr>\n",
       "      <th>7</th>\n",
       "      <td>Cylinders</td>\n",
       "    </tr>\n",
       "    <tr>\n",
       "      <th>8</th>\n",
       "      <td>EngineSize</td>\n",
       "    </tr>\n",
       "    <tr>\n",
       "      <th>13</th>\n",
       "      <td>Fuel.tank.capacity</td>\n",
       "    </tr>\n",
       "    <tr>\n",
       "      <th>19</th>\n",
       "      <td>Rear.seat.room</td>\n",
       "    </tr>\n",
       "    <tr>\n",
       "      <th>20</th>\n",
       "      <td>Luggage.room</td>\n",
       "    </tr>\n",
       "  </tbody>\n",
       "</table></div><div style='float:left; margin:10px'><table border=\"1\" class=\"dataframe\">\n",
       "  <thead>\n",
       "    <tr style=\"text-align: right;\">\n",
       "      <th></th>\n",
       "      <th>int64</th>\n",
       "    </tr>\n",
       "  </thead>\n",
       "  <tbody>\n",
       "    <tr>\n",
       "      <th>3</th>\n",
       "      <td>MPG.city</td>\n",
       "    </tr>\n",
       "    <tr>\n",
       "      <th>4</th>\n",
       "      <td>MPG.highway</td>\n",
       "    </tr>\n",
       "    <tr>\n",
       "      <th>5</th>\n",
       "      <td>AirBags</td>\n",
       "    </tr>\n",
       "    <tr>\n",
       "      <th>6</th>\n",
       "      <td>DriveTrain</td>\n",
       "    </tr>\n",
       "    <tr>\n",
       "      <th>9</th>\n",
       "      <td>Horsepower</td>\n",
       "    </tr>\n",
       "    <tr>\n",
       "      <th>10</th>\n",
       "      <td>RPM</td>\n",
       "    </tr>\n",
       "    <tr>\n",
       "      <th>11</th>\n",
       "      <td>Rev.per.mile</td>\n",
       "    </tr>\n",
       "    <tr>\n",
       "      <th>12</th>\n",
       "      <td>Man.trans.avail</td>\n",
       "    </tr>\n",
       "    <tr>\n",
       "      <th>14</th>\n",
       "      <td>Passengers</td>\n",
       "    </tr>\n",
       "    <tr>\n",
       "      <th>15</th>\n",
       "      <td>Length</td>\n",
       "    </tr>\n",
       "    <tr>\n",
       "      <th>16</th>\n",
       "      <td>Wheelbase</td>\n",
       "    </tr>\n",
       "    <tr>\n",
       "      <th>17</th>\n",
       "      <td>Width</td>\n",
       "    </tr>\n",
       "    <tr>\n",
       "      <th>18</th>\n",
       "      <td>Turn.circle</td>\n",
       "    </tr>\n",
       "    <tr>\n",
       "      <th>21</th>\n",
       "      <td>Weight</td>\n",
       "    </tr>\n",
       "    <tr>\n",
       "      <th>22</th>\n",
       "      <td>Origin</td>\n",
       "    </tr>\n",
       "  </tbody>\n",
       "</table></div><div style='float:left; margin:10px'><table border=\"1\" class=\"dataframe\">\n",
       "  <thead>\n",
       "    <tr style=\"text-align: right;\">\n",
       "      <th></th>\n",
       "      <th>str</th>\n",
       "    </tr>\n",
       "  </thead>\n",
       "  <tbody>\n",
       "    <tr>\n",
       "      <th>0</th>\n",
       "      <td>Manufacturer</td>\n",
       "    </tr>\n",
       "    <tr>\n",
       "      <th>1</th>\n",
       "      <td>Type</td>\n",
       "    </tr>\n",
       "  </tbody>\n",
       "</table>"
      ],
      "text/plain": [
       "<IPython.core.display.HTML object>"
      ]
     },
     "execution_count": 71,
     "metadata": {},
     "output_type": "execute_result"
    }
   ],
   "source": [
    "columns = df.keys()\n",
    "types = [type(df[key].iloc[0]).__name__ for key in columns]\n",
    "column_types_df = pd.DataFrame(zip(columns,types),columns=[\"field\",\"type\"])\n",
    "ini = \"<div style='float:left; margin:10px'>\"\n",
    "HTML(ini + f\"</div>{ini}\".join([pd.DataFrame({key:val[\"field\"]}).to_html() for key,val in column_types_df.groupby(\"type\")]))"
   ]
  },
  {
   "cell_type": "markdown",
   "id": "cc25ed20-c8e1-490c-9d84-a29b6161f062",
   "metadata": {},
   "source": [
    "Eso significa que todas las variables excepto las dos textuales que quedan serán usadas en el análisis."
   ]
  },
  {
   "cell_type": "code",
   "execution_count": 74,
   "id": "923d51f0-64a4-4760-9c77-104a6d224789",
   "metadata": {},
   "outputs": [],
   "source": [
    "train_columns = [key for key in df.keys() if key not in [\"Price\",\"Manufacturer\",\"Type\"]]"
   ]
  },
  {
   "cell_type": "code",
   "execution_count": 101,
   "id": "9aa6cddd-e71d-44ed-9a07-e91ae6ebefe3",
   "metadata": {},
   "outputs": [],
   "source": [
    "model = RandomForestRegressor()"
   ]
  },
  {
   "cell_type": "code",
   "execution_count": 111,
   "id": "7c978e20-cf38-4af9-93ac-71c9dcfe3d9c",
   "metadata": {},
   "outputs": [],
   "source": [
    "X_train, X_test, Y_train, Y_test = train_test_split(df[train_columns].fillna(0).values,df.Price.values)"
   ]
  },
  {
   "cell_type": "code",
   "execution_count": 112,
   "id": "11115e9a-7fa2-456d-8970-179a3a60516d",
   "metadata": {},
   "outputs": [
    {
     "data": {
      "text/plain": [
       "RandomForestRegressor()"
      ]
     },
     "execution_count": 112,
     "metadata": {},
     "output_type": "execute_result"
    }
   ],
   "source": [
    "model.fit(X_train,Y_train)"
   ]
  },
  {
   "cell_type": "code",
   "execution_count": 107,
   "id": "1b94ec22-3b59-433e-957e-5d802558ae41",
   "metadata": {},
   "outputs": [],
   "source": [
    "Y_predict = model.predict(X_test)"
   ]
  },
  {
   "cell_type": "raw",
   "id": "e7a42fd6-d908-4fa5-81f2-dd5020bdf714",
   "metadata": {},
   "source": [
    "importancia"
   ]
  },
  {
   "cell_type": "code",
   "execution_count": 116,
   "id": "92e4bc18-9189-4baf-826c-2a778084f54b",
   "metadata": {},
   "outputs": [
    {
     "data": {
      "text/plain": [
       "array(['Horsepower', 'Weight', 'MPG.city', 'Fuel.tank.capacity',\n",
       "       'AirBags', 'Length', 'Turn.circle', 'MPG.highway', 'Width',\n",
       "       'Rear.seat.room', 'Rev.per.mile', 'Wheelbase', 'EngineSize',\n",
       "       'Luggage.room', 'Cylinders', 'RPM', 'Man.trans.avail', 'Origin',\n",
       "       'DriveTrain', 'Passengers'], dtype='<U18')"
      ]
     },
     "execution_count": 116,
     "metadata": {},
     "output_type": "execute_result"
    }
   ],
   "source": [
    "np.array(train_columns)[np.argsort(model.feature_importances_)[::-1]]"
   ]
  }
 ],
 "metadata": {
  "kernelspec": {
   "display_name": "Python 3",
   "language": "python",
   "name": "python3"
  },
  "language_info": {
   "codemirror_mode": {
    "name": "ipython",
    "version": 3
   },
   "file_extension": ".py",
   "mimetype": "text/x-python",
   "name": "python",
   "nbconvert_exporter": "python",
   "pygments_lexer": "ipython3",
   "version": "3.9.6"
  }
 },
 "nbformat": 4,
 "nbformat_minor": 5
}
